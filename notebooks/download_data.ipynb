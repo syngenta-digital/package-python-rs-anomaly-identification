{
 "cells": [
  {
   "cell_type": "code",
   "execution_count": 18,
   "id": "f9d1204b-82b1-4bd2-8b9e-1c2fd012dd00",
   "metadata": {
    "tags": []
   },
   "outputs": [],
   "source": [
    "import sys\n",
    "sys.path.append(\"..\")\n",
    "import os\n",
    "import scripts.user_config as config\n",
    "from src.credentials import CREDENTIALS\n",
    "from src.data_downloader import DataDownloader"
   ]
  },
  {
   "cell_type": "markdown",
   "id": "b8408bb1-c8d9-48b1-a8eb-4c69627b8966",
   "metadata": {},
   "source": [
    "### Loading credentials and constant"
   ]
  },
  {
   "cell_type": "code",
   "execution_count": 19,
   "id": "a77e3fdc-1274-418d-840c-999123354f64",
   "metadata": {
    "tags": []
   },
   "outputs": [],
   "source": [
    "os.environ['SH_CLIENT_SECRET'] = CREDENTIALS['SH_CLIENT_SECRET']\n",
    "os.environ['SH_CLIENT_ID'] = CREDENTIALS['SH_CLIENT_ID']\n",
    "os.environ['SH_INSTANCE_ID'] = CREDENTIALS['SH_INSTANCE_ID']\n",
    "\n",
    "FEATURE_COLLECTION_FILE_PATH = \"../data/raw/AD_US_131_fields.geojson\"\n",
    "RANGE_DATES = ['2018-01-01', '2023-12-31']\n",
    "PARAMS = {'SAT': 'S2',\n",
    "          'CLOUD_FRAC_TILE_MAX': 0.8,\n",
    "          'CLOUD_FRAC_FIELD_MAX': 0.05,\n",
    "          'CLP_THRESHOLD': 0.1}"
   ]
  },
  {
   "cell_type": "markdown",
   "id": "59577d35-9d8d-4575-b4f3-9de0523118cd",
   "metadata": {
    "tags": []
   },
   "source": [
    "### Download the data"
   ]
  },
  {
   "cell_type": "code",
   "execution_count": 20,
   "id": "42c18362-6eda-4fd0-bebb-9dd939b12035",
   "metadata": {
    "tags": []
   },
   "outputs": [],
   "source": [
    "downloader = DataDownloader(FEATURE_COLLECTION_FILE_PATH)\n",
    "#downloader.download(range_dates=RANGE_DATES, params=PARAMS,\n",
    "#                    output_path='../data/raw/nematode_fields/')"
   ]
  }
 ],
 "metadata": {
  "kernelspec": {
   "display_name": "Python 3 (ipykernel)",
   "language": "python",
   "name": "python3"
  },
  "language_info": {
   "codemirror_mode": {
    "name": "ipython",
    "version": 3
   },
   "file_extension": ".py",
   "mimetype": "text/x-python",
   "name": "python",
   "nbconvert_exporter": "python",
   "pygments_lexer": "ipython3",
   "version": "3.10.6"
  }
 },
 "nbformat": 4,
 "nbformat_minor": 5
}
