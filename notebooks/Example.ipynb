{
 "cells": [
  {
   "cell_type": "markdown",
   "metadata": {},
   "source": [
    "### This notebook shows how to use all modules in the package as workflow. \n",
    "### Not all of the steps are necessary therefore, some steps will be labeled as optional "
   ]
  },
  {
   "cell_type": "code",
   "execution_count": 2,
   "metadata": {},
   "outputs": [],
   "source": [
    "import pandas as pd\n",
    "import pickle\n",
    "import xarray as xr\n",
    "from glob import glob\n",
    "import pickle\n",
    "import numpy as np\n",
    "import matplotlib.pyplot as plt\n",
    "from src.time_series_clustering.clustering import DTWSimilarity\n",
    "from src.functions.interpolation_functions import interpolate, field_interpolation\n",
    "from src.processing.image_processing import DataProcessing\n",
    "from src.processing.KDE_estimation import PDF\n",
    "from src.Anomaly_calculation.anomaly_calculation import ExtremeAnoMap"
   ]
  },
  {
   "cell_type": "markdown",
   "metadata": {},
   "source": [
    "### Step One: Time series similarity (Optional): this step is useful to identify similar seasons, sometimes vegitative index from different crops are mixed together\n",
    "##### causing time series to be different. Identifying anomlaies using remote sensing data of different signature may be misleading. this step compares time series\n",
    "##### of a selected ppixel and isolate dissimilar seasons, all series are compared to reference curve."
   ]
  },
  {
   "cell_type": "code",
   "execution_count": 3,
   "metadata": {},
   "outputs": [],
   "source": [
    "# reading time series of the field and refrence curve.\n",
    "file='../data/Parquet_files/id_field_213.parquet'\n",
    "reference_file='../data/csv_files/NDVI_reference_files/corn_reference.csv'\n",
    "df=pd.read_parquet(file)\n",
    "df_ref=pd.read_csv(reference_file, index_col='Unnamed: 0')\n",
    "# interpolating time series. please make sure to set time_series_similarity to true in this step. the output componenets are interpolated dates and ndvi\n",
    "final_doy,final_ndvi=interpolate(df['Date'].values, df['NDVI'].values, time_series_similarity=True)\n",
    "# instantiate the class, the dates, ndvi, reference_file, select the testing season and the field name\n",
    "tss=t=DTWSimilarity(final_doy,final_ndvi,reference_filepath=reference_file, testing_season=2023,field_name=213)\n",
    "# generate similarity dataframe\n",
    "a=tss.calculate_similarity()\n",
    "# select similarity acceptance threshold and get the selected season. 1.7 seems to be a fair threshold but the user can vary this value.\n",
    "b=tss.similar_seasons(threshold=1.7)"
   ]
  },
  {
   "cell_type": "code",
   "execution_count": 5,
   "metadata": {},
   "outputs": [
    {
     "name": "stdout",
     "output_type": "stream",
     "text": [
      "     Similarity  Field\n",
      "2017   0.918121    213\n",
      "2018   1.548341    213\n",
      "2019   1.022931    213\n",
      "2020   0.891553    213\n",
      "2021   1.083282    213\n",
      "2022    1.04275    213\n"
     ]
    }
   ],
   "source": [
    "print(a)"
   ]
  },
  {
   "cell_type": "code",
   "execution_count": 6,
   "metadata": {},
   "outputs": [
    {
     "name": "stdout",
     "output_type": "stream",
     "text": [
      "Seasons to keep are: [2017, 2018, 2019, 2020, 2021, 2022, 2023]\n"
     ]
    }
   ],
   "source": [
    "print(f'Seasons to keep are: {b}')"
   ]
  },
  {
   "cell_type": "markdown",
   "metadata": {},
   "source": [
    "##### Step Two: Data processing (Mandatory): This step is needed to split training and testing seasons, remove unwanted images with large number of nulls\n",
    "##### and align planting dates of different seasons"
   ]
  },
  {
   "cell_type": "code",
   "execution_count": 7,
   "metadata": {},
   "outputs": [],
   "source": [
    "# reading the data\n",
    "files=glob('../data/NC_files/Field_213/*field_213.*.nc')\n",
    "\n",
    "# reading normalization dictionary\n",
    "with open('../data/Pickled_files/norm_213.pickle','rb') as f:\n",
    "        data_alignment=pickle.load(f)\n",
    "\n",
    "data= xr.open_mfdataset(files)\n",
    "\n",
    "# computing NDVI\n",
    "data['NDVI']=(data['B08']-data['B04'])/(data['B08']+data['B04'])*10000\n",
    "\n",
    "# instantiate data processing class with date array, ndvi array, alignment dictionary, testing season to be split.\n",
    "# incase time series similarity is used to remove unwanted season and keep only similar seasons, to_keep keyword argument should be used \n",
    "dp=DataProcessing(data['time'].values,data['NDVI'].values, data_alignment,testing_season=2023, to_keep=[])\n",
    "# splitting training data from testing season (2023). the output components are training dates and ndvi arrays, testing dates and ndvi arrays\n",
    "trdates,trvi,tsdates,tsvi=dp.data_split()\n",
    "# removing unwanted images with null values\n",
    "trdates_fin,trvi_fin,tsdates_fin,tsvi_fin=dp.valid_images()\n",
    "# applying planting dates alignment to all training seasons and testing season. the ouput of this step is original dates\n",
    "# aligned dates and the ndvi arrays\n",
    "\n",
    "# training\n",
    "original_dates_tr, aligned_dates_tr, ndvi_tr=dp.date_alignment(trdates_fin,trvi, data_alignment)\n",
    "# testing\n",
    "original_dates_ts, aligned_dates_ts, ndvi_ts=dp.date_alignment(tsdates_fin, tsvi_fin, data_alignment)"
   ]
  },
  {
   "cell_type": "code",
   "execution_count": 8,
   "metadata": {},
   "outputs": [
    {
     "name": "stdout",
     "output_type": "stream",
     "text": [
      "First five dates original (measured dates): [Timestamp('2017-01-31 15:49:54') Timestamp('2017-02-20 15:45:53')\n",
      " Timestamp('2017-03-02 15:47:33') Timestamp('2017-03-22 15:49:50')\n",
      " Timestamp('2017-05-01 15:44:54') Timestamp('2017-07-20 15:44:08')]\n"
     ]
    }
   ],
   "source": [
    "print(f'First five dates original (measured dates): {original_dates_tr[:6]}')"
   ]
  },
  {
   "cell_type": "code",
   "execution_count": 9,
   "metadata": {},
   "outputs": [
    {
     "name": "stdout",
     "output_type": "stream",
     "text": [
      "First five dates original (measured dates): ['2017-01-03T15:49:54.000000000' '2017-01-23T15:45:53.000000000'\n",
      " '2017-02-02T15:47:33.000000000' '2017-02-22T15:49:50.000000000'\n",
      " '2017-04-03T15:44:54.000000000' '2017-06-22T15:44:08.000000000']\n"
     ]
    }
   ],
   "source": [
    "print(f'First five dates original (measured dates): {aligned_dates_tr[:6]}')"
   ]
  },
  {
   "cell_type": "markdown",
   "metadata": {},
   "source": [
    "##### Step Three: Field interpolation (Optional): interpolate NDVI (or any selected vegetative index), the user can select the interpolation daily step, simple linear\n",
    "##### interpolation is applied. the output is interpolated day of years and ndvi images"
   ]
  },
  {
   "cell_type": "code",
   "execution_count": 14,
   "metadata": {},
   "outputs": [],
   "source": [
    "# This function applies a pixel by pixel interpolation. The input are dates and ndvi arrays. The supplied dates can be either original (measured) dates\n",
    "# or aligned date array, the output is interpolated day of year if output_dates is false otherwise it is interpolated dates\n",
    "doy,ndvi_interp=field_interpolation(original_dates_tr, ndvi_tr,interpolation_step=1,output_dates=False)"
   ]
  },
  {
   "cell_type": "code",
   "execution_count": 15,
   "metadata": {},
   "outputs": [
    {
     "name": "stdout",
     "output_type": "stream",
     "text": [
      "The first 5 measured dates: [31. 32. 33. 34. 35. 36.]\n"
     ]
    }
   ],
   "source": [
    "print(f'The first 5 measured dates: {doy[:6]}')"
   ]
  },
  {
   "cell_type": "markdown",
   "metadata": {},
   "source": [
    "##### Step Four: PDF estimation (Mandatory): inthis step pdf for the field are estimated"
   ]
  },
  {
   "cell_type": "code",
   "execution_count": 16,
   "metadata": {},
   "outputs": [],
   "source": [
    "# Arguments of the class are day of year, ndvi array and ndvi array dimension\n",
    "pdfc=PDF(doy, ndvi_interp, ndvi_interp.shape)\n",
    "data_dict=pdfc.PDF_estimation()\n",
    "with open(f'../output/Pickled_files/Field_213_original_doy.pkl', mode='wb') as file:\n",
    "    pickle.dump(data_dict, file)"
   ]
  },
  {
   "cell_type": "markdown",
   "metadata": {},
   "source": [
    "##### Step Five (Mandatory): Generating Propability and delta maps. The delta map represents the NDVI difference between the reference NDVI (calculated from training data)\n",
    "##### and testing season."
   ]
  },
  {
   "cell_type": "code",
   "execution_count": null,
   "metadata": {},
   "outputs": [],
   "source": [
    "# Reading probabilities file\n",
    "with open(f'../output/Pickled_files/Field_data/Field_213_original_doy.pkl', 'rb') as f:\n",
    "        field_dict=pickle.load(f)"
   ]
  },
  {
   "cell_type": "code",
   "execution_count": null,
   "metadata": {},
   "outputs": [],
   "source": [
    "# Instantiate extreme anomaly map calss with the required arguments: pdf file, testing day of year and NDVI of the testing season\n",
    "# testing day of year and ndvi should be obtained from step two\n",
    "tsdoy=np.array([pd.to_datetime(d).dayofyear for d in original_dates_ts])\n",
    "one_field=ExtremeAnoMap(field_dict,tsdoy,ndvi_ts)\n",
    "rfd=one_field.rfd()\n",
    "delta=one_field.delta()"
   ]
  },
  {
   "cell_type": "code",
   "execution_count": null,
   "metadata": {},
   "outputs": [
    {
     "data": {
      "text/plain": [
       "Text(0.5, 1.0, 'RFD (Original) for 2023-05-25 15:54:34')"
      ]
     },
     "execution_count": 26,
     "metadata": {},
     "output_type": "execute_result"
    },
    {
     "data": {
      "image/png": "[encoded data removed]",
      "text/plain": [
       "<Figure size 1000x700 with 2 Axes>"
      ]
     },
     "metadata": {},
     "output_type": "display_data"
    }
   ],
   "source": [
    "# plotting propability map\n",
    "fig, ax=plt.subplots( figsize=(10,7))\n",
    "img1=ax.imshow(rfd[10,:,:], cmap='Purples')\n",
    "fig.colorbar(img1)\n",
    "ax.set_title(f'RFD (Original) for {tsdates[10]}')"
   ]
  }
 ],
 "metadata": {
  "kernelspec": {
   "display_name": "cad-remote-sensing-anomaly-detection-easHo9zu-py3.10",
   "language": "python",
   "name": "python3"
  },
  "language_info": {
   "codemirror_mode": {
    "name": "ipython",
    "version": 3
   },
   "file_extension": ".py",
   "mimetype": "text/x-python",
   "name": "python",
   "nbconvert_exporter": "python",
   "pygments_lexer": "ipython3",
   "version": "3.10.10"
  }
 },
 "nbformat": 4,
 "nbformat_minor": 2
}
